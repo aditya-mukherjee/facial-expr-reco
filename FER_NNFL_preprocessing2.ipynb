{
 "cells": [
  {
   "cell_type": "code",
   "execution_count": 1,
   "metadata": {},
   "outputs": [
    {
     "name": "stderr",
     "output_type": "stream",
     "text": [
      "Using Theano backend.\n"
     ]
    }
   ],
   "source": [
    "import scipy.misc\n",
    "import os\n",
    "import pandas as pd\n",
    "import numpy as np\n",
    "from keras import utils as np_utils\n",
    "from keras.preprocessing.image import ImageDataGenerator\n",
    "df=pd.read_csv('fer2013.csv')"
   ]
  },
  {
   "cell_type": "code",
   "execution_count": 2,
   "metadata": {},
   "outputs": [
    {
     "data": {
      "text/html": [
       "<div>\n",
       "<style>\n",
       "    .dataframe thead tr:only-child th {\n",
       "        text-align: right;\n",
       "    }\n",
       "\n",
       "    .dataframe thead th {\n",
       "        text-align: left;\n",
       "    }\n",
       "\n",
       "    .dataframe tbody tr th {\n",
       "        vertical-align: top;\n",
       "    }\n",
       "</style>\n",
       "<table border=\"1\" class=\"dataframe\">\n",
       "  <thead>\n",
       "    <tr style=\"text-align: right;\">\n",
       "      <th></th>\n",
       "      <th>emotion</th>\n",
       "      <th>pixels</th>\n",
       "      <th>Usage</th>\n",
       "    </tr>\n",
       "  </thead>\n",
       "  <tbody>\n",
       "    <tr>\n",
       "      <th>0</th>\n",
       "      <td>0</td>\n",
       "      <td>70 80 82 72 58 58 60 63 54 58 60 48 89 115 121...</td>\n",
       "      <td>Training</td>\n",
       "    </tr>\n",
       "    <tr>\n",
       "      <th>1</th>\n",
       "      <td>0</td>\n",
       "      <td>151 150 147 155 148 133 111 140 170 174 182 15...</td>\n",
       "      <td>Training</td>\n",
       "    </tr>\n",
       "    <tr>\n",
       "      <th>2</th>\n",
       "      <td>2</td>\n",
       "      <td>231 212 156 164 174 138 161 173 182 200 106 38...</td>\n",
       "      <td>Training</td>\n",
       "    </tr>\n",
       "    <tr>\n",
       "      <th>3</th>\n",
       "      <td>4</td>\n",
       "      <td>24 32 36 30 32 23 19 20 30 41 21 22 32 34 21 1...</td>\n",
       "      <td>Training</td>\n",
       "    </tr>\n",
       "    <tr>\n",
       "      <th>4</th>\n",
       "      <td>6</td>\n",
       "      <td>4 0 0 0 0 0 0 0 0 0 0 0 3 15 23 28 48 50 58 84...</td>\n",
       "      <td>Training</td>\n",
       "    </tr>\n",
       "  </tbody>\n",
       "</table>\n",
       "</div>"
      ],
      "text/plain": [
       "   emotion                                             pixels     Usage\n",
       "0        0  70 80 82 72 58 58 60 63 54 58 60 48 89 115 121...  Training\n",
       "1        0  151 150 147 155 148 133 111 140 170 174 182 15...  Training\n",
       "2        2  231 212 156 164 174 138 161 173 182 200 106 38...  Training\n",
       "3        4  24 32 36 30 32 23 19 20 30 41 21 22 32 34 21 1...  Training\n",
       "4        6  4 0 0 0 0 0 0 0 0 0 0 0 3 15 23 28 48 50 58 84...  Training"
      ]
     },
     "execution_count": 2,
     "metadata": {},
     "output_type": "execute_result"
    }
   ],
   "source": [
    "#df=df.sample(frac=1)\n",
    "df.head()\n",
    "# df.shape"
   ]
  },
  {
   "cell_type": "code",
   "execution_count": 3,
   "metadata": {
    "collapsed": true
   },
   "outputs": [],
   "source": [
    "pixels=np.array(df['pixels'])\n",
    "labels=np.array(df['emotion'])"
   ]
  },
  {
   "cell_type": "code",
   "execution_count": 4,
   "metadata": {
    "collapsed": true
   },
   "outputs": [],
   "source": [
    "# print(len(pixels))\n",
    "# print(type(pixels[0]))\n",
    "# pix=int(pixels[0])\n",
    "# print(len(pixels[0))\n",
    "# print(pixels[0])\n",
    "# for i in range(len(pixels)):\n",
    "#     pix.append(int(pixels[i]))\n",
    "pix=[]\n",
    "for i in range(len(pixels)):\n",
    "    pix.append(np.fromstring(pixels[i], dtype=int, sep=\" \"))"
   ]
  },
  {
   "cell_type": "code",
   "execution_count": 5,
   "metadata": {
    "collapsed": true
   },
   "outputs": [],
   "source": [
    "data=np.array(pix)"
   ]
  },
  {
   "cell_type": "code",
   "execution_count": 6,
   "metadata": {
    "collapsed": true
   },
   "outputs": [],
   "source": [
    "data2=[]\n",
    "# print(len(data[0]))\n",
    "for i in range(len(data)):\n",
    "    if(int(len(data[i])==(2304))):\n",
    "        data2.append(data[i].reshape(48,48))\n",
    "    else:\n",
    "        print(i)\n",
    "#         print(int(len(data[i])))\n",
    "data=np.array(data2)\n",
    "del(data2)"
   ]
  },
  {
   "cell_type": "code",
   "execution_count": 7,
   "metadata": {
    "collapsed": true
   },
   "outputs": [],
   "source": [
    "label3=[]\n",
    "data3=[]\n",
    "# print(data[0][0:40,0:40])\n",
    "# print(len(data))\n",
    "for i in range(len(data)):    \n",
    "    data3.append(data[i][0:40,0:40])\n",
    "    data3.append(data[i][8:48,0:40])\n",
    "    data3.append(data[i][0:40,8:48])\n",
    "    data3.append(data[i][8:48,8:48])\n",
    "    data3.append(data[i][4:44,4:44])\n",
    "       \n",
    "    data3.append(np.fliplr(data[i][0:40,0:40]))\n",
    "    data3.append(np.fliplr(data[i][8:48,0:40]))\n",
    "    data3.append(np.fliplr(data[i][0:40,8:48]))\n",
    "    data3.append(np.fliplr(data[i][8:48,8:48]))\n",
    "    data3.append(np.fliplr(data[i][4:44,4:44]))\n",
    "    for j in range(10):\n",
    "        label3.append(labels[i])\n",
    "\n",
    "        \n",
    "#     y1=data[0][0:40,0:40]\n",
    "#     scipy.misc.imsave('outfile1.jpg', y1)\n",
    "#     y2=data[0][8:48,0:40]\n",
    "#     scipy.misc.imsave('outfile2.jpg', y2)\n",
    "#     y3=data[0][0:40,8:48]\n",
    "#     scipy.misc.imsave('outfile3.jpg', y3)\n",
    "#     y4=data[0][8:48,8:48]\n",
    "#     scipy.misc.imsave('outfile4.jpg', y4)\n",
    "#     y5=data[0][4:44,4:44]\n",
    "#     scipy.misc.imsave('outfile5.jpg', y5)"
   ]
  },
  {
   "cell_type": "code",
   "execution_count": 8,
   "metadata": {},
   "outputs": [
    {
     "name": "stdout",
     "output_type": "stream",
     "text": [
      "(358870, 40, 40)\n",
      "(358870,)\n"
     ]
    }
   ],
   "source": [
    "data=np.array(data3)\n",
    "del(data3)\n",
    "print(data.shape)\n",
    "labels=np.array(label3)\n",
    "print(labels.shape)\n",
    "del(label3)"
   ]
  },
  {
   "cell_type": "code",
   "execution_count": 9,
   "metadata": {},
   "outputs": [
    {
     "name": "stdout",
     "output_type": "stream",
     "text": [
      "(287100, 40, 40, 1)\n",
      "(35890, 40, 40, 1)\n",
      "(35880, 40, 40, 1)\n",
      "(287100,)\n",
      "(35890,)\n",
      "(35880,)\n"
     ]
    }
   ],
   "source": [
    "data = data.reshape((data.shape[0],data.shape[1],data.shape[2],1))\n",
    "train_data=data[0:287100,:,:]\n",
    "val_data=data[287100:322990,:,:]\n",
    "test_data=data[322990:,:,:]\n",
    "print(train_data.shape)\n",
    "print(val_data.shape)\n",
    "print(test_data.shape)\n",
    "\n",
    "train_label=labels[0:287100]\n",
    "val_label=labels[287100:322990]\n",
    "test_label=labels[322990:]\n",
    "print(train_label.shape)\n",
    "print(val_label.shape)\n",
    "print(test_label.shape)"
   ]
  },
  {
   "cell_type": "code",
   "execution_count": 10,
   "metadata": {
    "collapsed": true
   },
   "outputs": [],
   "source": [
    "# print(train_data[0].reshape(40,40).shape)\n",
    "# print(len(train_data))\n",
    "\n",
    "path_test = os.getcwd()+\"/fer2013/test/\"\n",
    "path_train = os.getcwd()+\"/fer2013/train/\"\n",
    "path_val = os.getcwd()+\"/fer2013/val/\"\n",
    "\n",
    "# directory_test = os.path.dirname(path_test+str(i))\n",
    "# directory_train = os.path.dirname(path_train+str(i))\n",
    "# directory_val = os.path.dirname(path_val+str(i))\n",
    "\n",
    "for i in range(len(train_data)):\n",
    "    scipy.misc.imsave(path_train+str(train_label[i])+\"/\"+str(i)+\".jpg\", train_data[i].reshape(40,40))\n",
    "\n",
    "for i in range(len(test_data)):\n",
    "    scipy.misc.imsave(path_test+str(test_label[i])+\"/\"+str(i)+\".jpg\", test_data[i].reshape(40,40))\n",
    "\n",
    "for i in range(len(val_data)):\n",
    "    scipy.misc.imsave(path_val+str(val_label[i])+\"/\"+str(i)+\".jpg\", val_data[i].reshape(40,40))\n",
    "    \n",
    "# print(directory_train+\"/\"+str(i)+\".jpg\")\n",
    "\n",
    "# print(os.getcwd())"
   ]
  },
  {
   "cell_type": "code",
   "execution_count": 48,
   "metadata": {
    "collapsed": true
   },
   "outputs": [],
   "source": [
    "train_datagen =  ImageDataGenerator(rotation_range=5, width_shift_range=0.08, shear_range=0.1,\n",
    "                               height_shift_range=0.1, zoom_range=0.1)\n",
    "val_datagen =  ImageDataGenerator(rotation_range=5, width_shift_range=0.08, shear_range=0.1,\n",
    "                               height_shift_range=0.1, zoom_range=0.1)\n",
    "# test_datagen = ImageDataGenerator()"
   ]
  },
  {
   "cell_type": "code",
   "execution_count": 49,
   "metadata": {},
   "outputs": [
    {
     "name": "stdout",
     "output_type": "stream",
     "text": [
      "Found 28180 images belonging to 7 classes.\n"
     ]
    }
   ],
   "source": [
    "train_generator = train_datagen.flow_from_directory(\n",
    "        path_train,\n",
    "        target_size=(40, 40),\n",
    "        batch_size=48,\n",
    "        class_mode='categorical')\n",
    "\n",
    "validation_generator = val_datagen.flow_from_directory(\n",
    "        path_val,\n",
    "        target_size=(40, 40),\n",
    "        batch_size=48,\n",
    "        class_mode='categorical')"
   ]
  },
  {
   "cell_type": "code",
   "execution_count": 25,
   "metadata": {
    "collapsed": true
   },
   "outputs": [],
   "source": [
    "path_test = \"/fer2013/test/\"\n",
    "path_train = \"/fer2013/train/\"\n",
    "path_val = \"/fer2013/val/\"\n",
    "\n",
    "# for i in range(7):     \n",
    "    \n",
    "#     directory_test = os.path.dirname(path_test+str(i))\n",
    "#     directory_train = os.path.dirname(path_train+str(i))\n",
    "#     directory_val = os.path.dirname(path_val+str(i))\n",
    "    \n",
    "#     if not os.path.exists(directory_test):\n",
    "#         os.makedirs(directory_test,0777)\n",
    "#     if not os.path.exists(directory_train):\n",
    "#         os.makedirs(directory_train,0777)\n",
    "#     if not os.path.exists(directory_val):\n",
    "#         os.makedirs(directory_val,0777)"
   ]
  },
  {
   "cell_type": "code",
   "execution_count": 27,
   "metadata": {},
   "outputs": [
    {
     "ename": "IOError",
     "evalue": "[Errno 2] No such file or directory: '/fer2013/train//[ 1.  0.  0.  0.  0.  0.  0.]/0.jpg'",
     "output_type": "error",
     "traceback": [
      "\u001b[0;31m---------------------------------------------------------------------------\u001b[0m",
      "\u001b[0;31mIOError\u001b[0m                                   Traceback (most recent call last)",
      "\u001b[0;32m<ipython-input-27-e9f7562b929f>\u001b[0m in \u001b[0;36m<module>\u001b[0;34m()\u001b[0m\n\u001b[1;32m     11\u001b[0m \u001b[0;34m\u001b[0m\u001b[0m\n\u001b[1;32m     12\u001b[0m \u001b[0;32mfor\u001b[0m \u001b[0mi\u001b[0m \u001b[0;32min\u001b[0m \u001b[0mrange\u001b[0m\u001b[0;34m(\u001b[0m\u001b[0mlen\u001b[0m\u001b[0;34m(\u001b[0m\u001b[0mtrain_data\u001b[0m\u001b[0;34m)\u001b[0m\u001b[0;34m)\u001b[0m\u001b[0;34m:\u001b[0m\u001b[0;34m\u001b[0m\u001b[0m\n\u001b[0;32m---> 13\u001b[0;31m     \u001b[0mscipy\u001b[0m\u001b[0;34m.\u001b[0m\u001b[0mmisc\u001b[0m\u001b[0;34m.\u001b[0m\u001b[0mimsave\u001b[0m\u001b[0;34m(\u001b[0m\u001b[0mpath_train\u001b[0m\u001b[0;34m+\u001b[0m\u001b[0;34m\"/\"\u001b[0m\u001b[0;34m+\u001b[0m\u001b[0mstr\u001b[0m\u001b[0;34m(\u001b[0m\u001b[0mtrain_label\u001b[0m\u001b[0;34m[\u001b[0m\u001b[0mi\u001b[0m\u001b[0;34m]\u001b[0m\u001b[0;34m)\u001b[0m\u001b[0;34m+\u001b[0m\u001b[0;34m\"/\"\u001b[0m\u001b[0;34m+\u001b[0m\u001b[0mstr\u001b[0m\u001b[0;34m(\u001b[0m\u001b[0mi\u001b[0m\u001b[0;34m)\u001b[0m\u001b[0;34m+\u001b[0m\u001b[0;34m\".jpg\"\u001b[0m\u001b[0;34m,\u001b[0m \u001b[0mtrain_data\u001b[0m\u001b[0;34m[\u001b[0m\u001b[0mi\u001b[0m\u001b[0;34m]\u001b[0m\u001b[0;34m.\u001b[0m\u001b[0mreshape\u001b[0m\u001b[0;34m(\u001b[0m\u001b[0;36m40\u001b[0m\u001b[0;34m,\u001b[0m\u001b[0;36m40\u001b[0m\u001b[0;34m)\u001b[0m\u001b[0;34m)\u001b[0m\u001b[0;34m\u001b[0m\u001b[0m\n\u001b[0m\u001b[1;32m     14\u001b[0m \u001b[0;34m\u001b[0m\u001b[0m\n\u001b[1;32m     15\u001b[0m \u001b[0;31m# print(directory_train+\"/\"+str(i)+\".jpg\")\u001b[0m\u001b[0;34m\u001b[0m\u001b[0;34m\u001b[0m\u001b[0m\n",
      "\u001b[0;32m/home/aditya/.local/lib/python2.7/site-packages/scipy/misc/pilutil.pyc\u001b[0m in \u001b[0;36mimsave\u001b[0;34m(name, arr, format)\u001b[0m\n\u001b[1;32m    197\u001b[0m     \u001b[0mim\u001b[0m \u001b[0;34m=\u001b[0m \u001b[0mtoimage\u001b[0m\u001b[0;34m(\u001b[0m\u001b[0marr\u001b[0m\u001b[0;34m,\u001b[0m \u001b[0mchannel_axis\u001b[0m\u001b[0;34m=\u001b[0m\u001b[0;36m2\u001b[0m\u001b[0;34m)\u001b[0m\u001b[0;34m\u001b[0m\u001b[0m\n\u001b[1;32m    198\u001b[0m     \u001b[0;32mif\u001b[0m \u001b[0mformat\u001b[0m \u001b[0;32mis\u001b[0m \u001b[0mNone\u001b[0m\u001b[0;34m:\u001b[0m\u001b[0;34m\u001b[0m\u001b[0m\n\u001b[0;32m--> 199\u001b[0;31m         \u001b[0mim\u001b[0m\u001b[0;34m.\u001b[0m\u001b[0msave\u001b[0m\u001b[0;34m(\u001b[0m\u001b[0mname\u001b[0m\u001b[0;34m)\u001b[0m\u001b[0;34m\u001b[0m\u001b[0m\n\u001b[0m\u001b[1;32m    200\u001b[0m     \u001b[0;32melse\u001b[0m\u001b[0;34m:\u001b[0m\u001b[0;34m\u001b[0m\u001b[0m\n\u001b[1;32m    201\u001b[0m         \u001b[0mim\u001b[0m\u001b[0;34m.\u001b[0m\u001b[0msave\u001b[0m\u001b[0;34m(\u001b[0m\u001b[0mname\u001b[0m\u001b[0;34m,\u001b[0m \u001b[0mformat\u001b[0m\u001b[0;34m)\u001b[0m\u001b[0;34m\u001b[0m\u001b[0m\n",
      "\u001b[0;32m/usr/lib/python2.7/dist-packages/PIL/Image.pyc\u001b[0m in \u001b[0;36msave\u001b[0;34m(self, fp, format, **params)\u001b[0m\n\u001b[1;32m   1670\u001b[0m \u001b[0;34m\u001b[0m\u001b[0m\n\u001b[1;32m   1671\u001b[0m         \u001b[0;32mif\u001b[0m \u001b[0mopen_fp\u001b[0m\u001b[0;34m:\u001b[0m\u001b[0;34m\u001b[0m\u001b[0m\n\u001b[0;32m-> 1672\u001b[0;31m             \u001b[0mfp\u001b[0m \u001b[0;34m=\u001b[0m \u001b[0mbuiltins\u001b[0m\u001b[0;34m.\u001b[0m\u001b[0mopen\u001b[0m\u001b[0;34m(\u001b[0m\u001b[0mfilename\u001b[0m\u001b[0;34m,\u001b[0m \u001b[0;34m\"wb\"\u001b[0m\u001b[0;34m)\u001b[0m\u001b[0;34m\u001b[0m\u001b[0m\n\u001b[0m\u001b[1;32m   1673\u001b[0m \u001b[0;34m\u001b[0m\u001b[0m\n\u001b[1;32m   1674\u001b[0m         \u001b[0;32mtry\u001b[0m\u001b[0;34m:\u001b[0m\u001b[0;34m\u001b[0m\u001b[0m\n",
      "\u001b[0;31mIOError\u001b[0m: [Errno 2] No such file or directory: '/fer2013/train//[ 1.  0.  0.  0.  0.  0.  0.]/0.jpg'"
     ]
    }
   ],
   "source": [
    "# print(train_data[0].reshape(40,40).shape)\n",
    "# print(len(train_data))\n",
    "\n",
    "path_test = \"/fer2013/test/\"\n",
    "path_train = \"/fer2013/train/\"\n",
    "path_val = \"/fer2013/val/\"\n",
    "\n",
    "# directory_test = os.path.dirname(path_test+str(i))\n",
    "# directory_train = os.path.dirname(path_train+str(i))\n",
    "# directory_val = os.path.dirname(path_val+str(i))\n",
    "\n",
    "for i in range(len(train_data)):\n",
    "    scipy.misc.imsave(path_train+\"/\"+str(train_label[i])+\"/\"+str(i)+\".jpg\", train_data[i].reshape(40,40))\n",
    "    \n",
    "# print(directory_train+\"/\"+str(i)+\".jpg\")"
   ]
  },
  {
   "cell_type": "code",
   "execution_count": 11,
   "metadata": {},
   "outputs": [
    {
     "name": "stdout",
     "output_type": "stream",
     "text": [
      "(287100, 7)\n",
      "(35890, 7)\n",
      "(35880, 7)\n"
     ]
    }
   ],
   "source": [
    "print(train_label.shape)\n",
    "print(val_label.shape)\n",
    "print(test_label.shape)"
   ]
  },
  {
   "cell_type": "code",
   "execution_count": 12,
   "metadata": {
    "collapsed": true
   },
   "outputs": [],
   "source": [
    "np.save(\"Xtrain\",train_data)\n",
    "np.save(\"Xtest\",test_data)\n",
    "np.save(\"Xval\",val_data)\n",
    "np.save(\"Ytrain\",train_label)\n",
    "np.save(\"Ytest\",test_label)\n",
    "np.save(\"Yval\",val_label)"
   ]
  },
  {
   "cell_type": "code",
   "execution_count": null,
   "metadata": {
    "collapsed": true
   },
   "outputs": [],
   "source": []
  }
 ],
 "metadata": {
  "kernelspec": {
   "display_name": "Python 2",
   "language": "python",
   "name": "python2"
  },
  "language_info": {
   "codemirror_mode": {
    "name": "ipython",
    "version": 2
   },
   "file_extension": ".py",
   "mimetype": "text/x-python",
   "name": "python",
   "nbconvert_exporter": "python",
   "pygments_lexer": "ipython2",
   "version": "2.7.14"
  }
 },
 "nbformat": 4,
 "nbformat_minor": 2
}
