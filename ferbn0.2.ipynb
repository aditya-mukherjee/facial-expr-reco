{
 "cells": [
  {
   "cell_type": "code",
   "execution_count": 1,
   "metadata": {},
   "outputs": [
    {
     "name": "stderr",
     "output_type": "stream",
     "text": [
      "Using Theano backend.\n"
     ]
    }
   ],
   "source": [
    "import numpy as np\n",
    "import keras\n",
    "from keras.layers import Input, Dense, Conv2D, MaxPooling2D, concatenate, Flatten, AveragePooling2D\n",
    "from keras.layers import*\n",
    "from keras.models import Model\n",
    "from keras.callbacks import LearningRateScheduler, ModelCheckpoint\n",
    "from keras.optimizers import*\n",
    "from keras.regularizers import l2"
   ]
  },
  {
   "cell_type": "code",
   "execution_count": 2,
   "metadata": {
    "collapsed": true
   },
   "outputs": [],
   "source": [
    "max_epoch = 20\n",
    "def poly_decay(epoch):\n",
    "    base_lr = 0.01\n",
    "    lr = base_lr*((1-(epoch/max_epoch))**0.5)\n",
    "    return lr\n",
    "lrate = LearningRateScheduler(poly_decay)\n",
    "callbacks_list = [lrate]"
   ]
  },
  {
   "cell_type": "code",
   "execution_count": 3,
   "metadata": {
    "collapsed": true
   },
   "outputs": [],
   "source": [
    "Xtrain = np.load(\"Xtrain.npy\")\n",
    "Xtest = np.load(\"Xtest.npy\")\n",
    "Xval = np.load(\"Xval.npy\")\n",
    "Ytrain = np.load(\"Ytrain.npy\")\n",
    "Ytest = np.load(\"Ytest.npy\")\n",
    "Yval = np.load(\"Yval.npy\")"
   ]
  },
  {
   "cell_type": "code",
   "execution_count": 4,
   "metadata": {},
   "outputs": [
    {
     "name": "stderr",
     "output_type": "stream",
     "text": [
      "/home/amitoj/anaconda2/lib/python2.7/site-packages/ipykernel_launcher.py:10: UserWarning: Update your `Conv2D` call to the Keras 2 API: `Conv2D(64, 1, padding=\"same\", activation=\"relu\", kernel_regularizer=<keras.reg...)`\n",
      "  # Remove the CWD from sys.path while we load stuff.\n",
      "/home/amitoj/anaconda2/lib/python2.7/site-packages/ipykernel_launcher.py:11: UserWarning: Update your `Conv2D` call to the Keras 2 API: `Conv2D(96, 3, padding=\"same\", activation=\"relu\", kernel_regularizer=<keras.reg...)`\n",
      "  # This is added back by InteractiveShellApp.init_path()\n",
      "/home/amitoj/anaconda2/lib/python2.7/site-packages/ipykernel_launcher.py:12: UserWarning: Update your `Conv2D` call to the Keras 2 API: `Conv2D(128, 3, padding=\"same\", activation=\"relu\", kernel_regularizer=<keras.reg...)`\n",
      "  if sys.path[0] == '':\n",
      "/home/amitoj/anaconda2/lib/python2.7/site-packages/ipykernel_launcher.py:13: UserWarning: Update your `Conv2D` call to the Keras 2 API: `Conv2D(16, 5, padding=\"same\", activation=\"relu\", kernel_regularizer=<keras.reg...)`\n",
      "  del sys.path[0]\n",
      "/home/amitoj/anaconda2/lib/python2.7/site-packages/ipykernel_launcher.py:14: UserWarning: Update your `Conv2D` call to the Keras 2 API: `Conv2D(32, 5, padding=\"same\", activation=\"relu\", kernel_regularizer=<keras.reg...)`\n",
      "  \n",
      "/home/amitoj/anaconda2/lib/python2.7/site-packages/ipykernel_launcher.py:16: UserWarning: Update your `Conv2D` call to the Keras 2 API: `Conv2D(32, 1, padding=\"same\", activation=\"relu\", kernel_regularizer=<keras.reg...)`\n",
      "  app.launch_new_instance()\n",
      "/home/amitoj/anaconda2/lib/python2.7/site-packages/ipykernel_launcher.py:21: UserWarning: Update your `Conv2D` call to the Keras 2 API: `Conv2D(128, 1, padding=\"same\", activation=\"relu\", kernel_regularizer=<keras.reg...)`\n",
      "/home/amitoj/anaconda2/lib/python2.7/site-packages/ipykernel_launcher.py:22: UserWarning: Update your `Conv2D` call to the Keras 2 API: `Conv2D(128, 3, padding=\"same\", activation=\"relu\", kernel_regularizer=<keras.reg...)`\n",
      "/home/amitoj/anaconda2/lib/python2.7/site-packages/ipykernel_launcher.py:23: UserWarning: Update your `Conv2D` call to the Keras 2 API: `Conv2D(192, 3, padding=\"same\", activation=\"relu\", kernel_regularizer=<keras.reg...)`\n",
      "/home/amitoj/anaconda2/lib/python2.7/site-packages/ipykernel_launcher.py:24: UserWarning: Update your `Conv2D` call to the Keras 2 API: `Conv2D(32, 5, padding=\"same\", activation=\"relu\", kernel_regularizer=<keras.reg...)`\n",
      "/home/amitoj/anaconda2/lib/python2.7/site-packages/ipykernel_launcher.py:25: UserWarning: Update your `Conv2D` call to the Keras 2 API: `Conv2D(96, 5, padding=\"same\", activation=\"relu\", kernel_regularizer=<keras.reg...)`\n",
      "/home/amitoj/anaconda2/lib/python2.7/site-packages/ipykernel_launcher.py:27: UserWarning: Update your `Conv2D` call to the Keras 2 API: `Conv2D(64, 1, padding=\"same\", activation=\"relu\", kernel_regularizer=<keras.reg...)`\n",
      "/home/amitoj/anaconda2/lib/python2.7/site-packages/ipykernel_launcher.py:33: UserWarning: Update your `Conv2D` call to the Keras 2 API: `Conv2D(192, 1, padding=\"same\", activation=\"relu\", kernel_regularizer=<keras.reg...)`\n",
      "/home/amitoj/anaconda2/lib/python2.7/site-packages/ipykernel_launcher.py:34: UserWarning: Update your `Conv2D` call to the Keras 2 API: `Conv2D(96, 3, padding=\"same\", activation=\"relu\", kernel_regularizer=<keras.reg...)`\n",
      "/home/amitoj/anaconda2/lib/python2.7/site-packages/ipykernel_launcher.py:35: UserWarning: Update your `Conv2D` call to the Keras 2 API: `Conv2D(208, 3, padding=\"same\", activation=\"relu\", kernel_regularizer=<keras.reg...)`\n",
      "/home/amitoj/anaconda2/lib/python2.7/site-packages/ipykernel_launcher.py:36: UserWarning: Update your `Conv2D` call to the Keras 2 API: `Conv2D(16, 5, padding=\"same\", activation=\"relu\", kernel_regularizer=<keras.reg...)`\n",
      "/home/amitoj/anaconda2/lib/python2.7/site-packages/ipykernel_launcher.py:37: UserWarning: Update your `Conv2D` call to the Keras 2 API: `Conv2D(48, 5, padding=\"same\", activation=\"relu\", kernel_regularizer=<keras.reg...)`\n",
      "/home/amitoj/anaconda2/lib/python2.7/site-packages/ipykernel_launcher.py:39: UserWarning: Update your `Conv2D` call to the Keras 2 API: `Conv2D(64, 1, padding=\"same\", activation=\"relu\", kernel_regularizer=<keras.reg...)`\n",
      "/home/amitoj/anaconda2/lib/python2.7/site-packages/ipykernel_launcher.py:45: UserWarning: Update your `Dense` call to the Keras 2 API: `Dense(4096, activation=\"relu\", kernel_regularizer=<keras.reg...)`\n",
      "/home/amitoj/anaconda2/lib/python2.7/site-packages/ipykernel_launcher.py:46: UserWarning: Update your `Dense` call to the Keras 2 API: `Dense(1024, activation=\"relu\", kernel_regularizer=<keras.reg...)`\n",
      "/home/amitoj/anaconda2/lib/python2.7/site-packages/ipykernel_launcher.py:47: UserWarning: Update your `Dense` call to the Keras 2 API: `Dense(7, activation=\"softmax\", kernel_regularizer=<keras.reg...)`\n"
     ]
    },
    {
     "name": "stdout",
     "output_type": "stream",
     "text": [
      "__________________________________________________________________________________________________\n",
      "Layer (type)                    Output Shape         Param #     Connected to                     \n",
      "==================================================================================================\n",
      "img_input (InputLayer)          (None, 40, 40, 1)    0                                            \n",
      "__________________________________________________________________________________________________\n",
      "conv2d_1 (Conv2D)               (None, 20, 20, 64)   3200        img_input[0][0]                  \n",
      "__________________________________________________________________________________________________\n",
      "max_pooling2d_1 (MaxPooling2D)  (None, 10, 10, 64)   0           conv2d_1[0][0]                   \n",
      "__________________________________________________________________________________________________\n",
      "conv2d_2 (Conv2D)               (None, 5, 5, 192)    110784      max_pooling2d_1[0][0]            \n",
      "__________________________________________________________________________________________________\n",
      "max_pooling2d_2 (MaxPooling2D)  (None, 3, 3, 192)    0           conv2d_2[0][0]                   \n",
      "__________________________________________________________________________________________________\n",
      "batch_normalization_1 (BatchNor (None, 3, 3, 192)    768         max_pooling2d_2[0][0]            \n",
      "__________________________________________________________________________________________________\n",
      "conv2d_4 (Conv2D)               (None, 3, 3, 96)     165984      batch_normalization_1[0][0]      \n",
      "__________________________________________________________________________________________________\n",
      "conv2d_6 (Conv2D)               (None, 3, 3, 16)     76816       batch_normalization_1[0][0]      \n",
      "__________________________________________________________________________________________________\n",
      "max_pooling2d_3 (MaxPooling2D)  (None, 3, 3, 192)    0           batch_normalization_1[0][0]      \n",
      "__________________________________________________________________________________________________\n",
      "conv2d_3 (Conv2D)               (None, 3, 3, 64)     12352       batch_normalization_1[0][0]      \n",
      "__________________________________________________________________________________________________\n",
      "conv2d_5 (Conv2D)               (None, 3, 3, 128)    110720      conv2d_4[0][0]                   \n",
      "__________________________________________________________________________________________________\n",
      "conv2d_7 (Conv2D)               (None, 3, 3, 32)     12832       conv2d_6[0][0]                   \n",
      "__________________________________________________________________________________________________\n",
      "conv2d_8 (Conv2D)               (None, 3, 3, 32)     6176        max_pooling2d_3[0][0]            \n",
      "__________________________________________________________________________________________________\n",
      "concatenate_1 (Concatenate)     (None, 3, 3, 256)    0           conv2d_3[0][0]                   \n",
      "                                                                 conv2d_5[0][0]                   \n",
      "                                                                 conv2d_7[0][0]                   \n",
      "                                                                 conv2d_8[0][0]                   \n",
      "__________________________________________________________________________________________________\n",
      "batch_normalization_2 (BatchNor (None, 3, 3, 256)    1024        concatenate_1[0][0]              \n",
      "__________________________________________________________________________________________________\n",
      "conv2d_10 (Conv2D)              (None, 3, 3, 128)    295040      batch_normalization_2[0][0]      \n",
      "__________________________________________________________________________________________________\n",
      "conv2d_12 (Conv2D)              (None, 3, 3, 32)     204832      batch_normalization_2[0][0]      \n",
      "__________________________________________________________________________________________________\n",
      "max_pooling2d_4 (MaxPooling2D)  (None, 3, 3, 256)    0           batch_normalization_2[0][0]      \n",
      "__________________________________________________________________________________________________\n",
      "conv2d_9 (Conv2D)               (None, 3, 3, 128)    32896       batch_normalization_2[0][0]      \n",
      "__________________________________________________________________________________________________\n",
      "conv2d_11 (Conv2D)              (None, 3, 3, 192)    221376      conv2d_10[0][0]                  \n",
      "__________________________________________________________________________________________________\n",
      "conv2d_13 (Conv2D)              (None, 3, 3, 96)     76896       conv2d_12[0][0]                  \n",
      "__________________________________________________________________________________________________\n",
      "conv2d_14 (Conv2D)              (None, 3, 3, 64)     16448       max_pooling2d_4[0][0]            \n",
      "__________________________________________________________________________________________________\n",
      "concatenate_2 (Concatenate)     (None, 3, 3, 480)    0           conv2d_9[0][0]                   \n",
      "                                                                 conv2d_11[0][0]                  \n",
      "                                                                 conv2d_13[0][0]                  \n",
      "                                                                 conv2d_14[0][0]                  \n",
      "__________________________________________________________________________________________________\n",
      "max_pooling2d_5 (MaxPooling2D)  (None, 2, 2, 480)    0           concatenate_2[0][0]              \n",
      "__________________________________________________________________________________________________\n",
      "batch_normalization_3 (BatchNor (None, 2, 2, 480)    1920        max_pooling2d_5[0][0]            \n",
      "__________________________________________________________________________________________________\n",
      "conv2d_16 (Conv2D)              (None, 2, 2, 96)     414816      batch_normalization_3[0][0]      \n",
      "__________________________________________________________________________________________________\n",
      "conv2d_18 (Conv2D)              (None, 2, 2, 16)     192016      batch_normalization_3[0][0]      \n",
      "__________________________________________________________________________________________________\n",
      "max_pooling2d_6 (MaxPooling2D)  (None, 2, 2, 480)    0           batch_normalization_3[0][0]      \n",
      "__________________________________________________________________________________________________\n",
      "conv2d_15 (Conv2D)              (None, 2, 2, 192)    92352       batch_normalization_3[0][0]      \n",
      "__________________________________________________________________________________________________\n",
      "conv2d_17 (Conv2D)              (None, 2, 2, 208)    179920      conv2d_16[0][0]                  \n",
      "__________________________________________________________________________________________________\n",
      "conv2d_19 (Conv2D)              (None, 2, 2, 48)     19248       conv2d_18[0][0]                  \n",
      "__________________________________________________________________________________________________\n",
      "conv2d_20 (Conv2D)              (None, 2, 2, 64)     30784       max_pooling2d_6[0][0]            \n",
      "__________________________________________________________________________________________________\n",
      "concatenate_3 (Concatenate)     (None, 2, 2, 512)    0           conv2d_15[0][0]                  \n",
      "                                                                 conv2d_17[0][0]                  \n",
      "                                                                 conv2d_19[0][0]                  \n",
      "                                                                 conv2d_20[0][0]                  \n",
      "__________________________________________________________________________________________________\n",
      "batch_normalization_4 (BatchNor (None, 2, 2, 512)    2048        concatenate_3[0][0]              \n",
      "__________________________________________________________________________________________________\n",
      "average_pooling2d_1 (AveragePoo (None, 1, 1, 512)    0           batch_normalization_4[0][0]      \n",
      "__________________________________________________________________________________________________\n",
      "flatten_1 (Flatten)             (None, 512)          0           average_pooling2d_1[0][0]        \n",
      "__________________________________________________________________________________________________\n",
      "dropout_1 (Dropout)             (None, 512)          0           flatten_1[0][0]                  \n",
      "__________________________________________________________________________________________________\n",
      "dense_1 (Dense)                 (None, 4096)         2101248     dropout_1[0][0]                  \n",
      "__________________________________________________________________________________________________\n",
      "dense_2 (Dense)                 (None, 1024)         4195328     dense_1[0][0]                    \n",
      "__________________________________________________________________________________________________\n",
      "dense_3 (Dense)                 (None, 7)            7175        dense_2[0][0]                    \n",
      "==================================================================================================\n"
     ]
    },
    {
     "name": "stdout",
     "output_type": "stream",
     "text": [
      "Total params: 8,584,999\n",
      "Trainable params: 8,582,119\n",
      "Non-trainable params: 2,880\n",
      "__________________________________________________________________________________________________\n"
     ]
    }
   ],
   "source": [
    "img_input = Input(shape=(40,40,1), name='img_input')\n",
    "x = Conv2D(64,7, strides=(2,2), activation = 'relu',padding='same')(img_input)\n",
    "x = MaxPooling2D(pool_size=(3, 3), strides=(2,2),padding='same')(x)   \n",
    "x = Conv2D(192,3,strides=(2,2),padding='same')(x)\n",
    "x = MaxPooling2D(pool_size=(3, 3), strides=(2,2),padding='same')(x)\n",
    "x = BatchNormalization()(x)\n",
    "\n",
    "#first inception layer 3a\n",
    "x1 = Conv2D(64,1, padding='same', activation = 'relu', W_regularizer=l2(0.0002))(x) #1*1\n",
    "x2 = Conv2D(96,3, padding='same', activation = 'relu', W_regularizer=l2(0.0002))(x) #3*3 reduce\n",
    "x2 = Conv2D(128,3, padding='same', activation = 'relu', W_regularizer=l2(0.0002))(x2) #3*3 \n",
    "x3 = Conv2D(16,5, padding='same', activation = 'relu', W_regularizer=l2(0.0002))(x) #5*5 reduce\n",
    "x3 = Conv2D(32,5, padding='same', activation = 'relu', W_regularizer=l2(0.0002))(x3) #5*5 \n",
    "x4 = MaxPooling2D(pool_size=(3,3), strides=(1,1), padding='same')(x) #pool proj\n",
    "x4 = Conv2D(32,1, padding='same', activation = 'relu', W_regularizer=l2(0.0002))(x4) #1*1\n",
    "x = concatenate([x1,x2,x3,x4], axis = 3)\n",
    "x = BatchNormalization()(x)\n",
    "#second inception layer 3b\n",
    "x1 = Conv2D(128,1, padding='same', activation = 'relu', W_regularizer=l2(0.0002))(x) #1*1\n",
    "x2 = Conv2D(128,3,padding='same', activation = 'relu', W_regularizer=l2(0.0002))(x) #3*3 reduce\n",
    "x2 = Conv2D(192,3, padding='same', activation = 'relu', W_regularizer=l2(0.0002))(x2) #3*3 \n",
    "x3 = Conv2D(32,5, padding='same', activation = 'relu', W_regularizer=l2(0.0002))(x) #5*5 reduce\n",
    "x3 = Conv2D(96,5, padding='same', activation = 'relu', W_regularizer=l2(0.0002))(x3) #5*5 \n",
    "x4 = MaxPooling2D(pool_size=(3,3), strides=(1,1), padding='same')(x) #pool proj\n",
    "x4 = Conv2D(64,1, padding='same', activation = 'relu', W_regularizer=l2(0.0002))(x4)\n",
    "x = concatenate([x1,x2,x3,x4], axis = 3)\n",
    "x = MaxPooling2D(pool_size=(3, 3), strides=(2,2),padding='same')(x)\n",
    "x = BatchNormalization()(x)\n",
    "#third inception layer 4a\n",
    "x1 = Conv2D(192,1, padding='same', activation = 'relu', W_regularizer=l2(0.0002))(x) #1*1\n",
    "x2 = Conv2D(96,3,padding='same', activation = 'relu', W_regularizer=l2(0.0002))(x) #3*3 reduce\n",
    "x2 = Conv2D(208,3, padding='same', activation = 'relu', W_regularizer=l2(0.0002))(x2) #3*3 \n",
    "x3 = Conv2D(16,5, padding='same', activation = 'relu', W_regularizer=l2(0.0002))(x) #5*5 reduce\n",
    "x3 = Conv2D(48,5, padding='same', activation = 'relu', W_regularizer=l2(0.0002))(x3) #5*5 \n",
    "x4 = MaxPooling2D(pool_size=(3,3), strides=(1,1), padding='same')(x) #pool proj\n",
    "x4 = Conv2D(64,1, padding='same', activation = 'relu', W_regularizer=l2(0.0002))(x4) #1*1\n",
    "x = concatenate([x1,x2,x3,x4], axis = 3)\n",
    "x = BatchNormalization()(x)\n",
    "x = AveragePooling2D()(x)\n",
    "x = Flatten()(x)\n",
    "x = Dropout(0.2)(x)\n",
    "x = Dense(4096, activation='relu', W_regularizer=l2(0.0002))(x)\n",
    "x = Dense(1024, activation='relu', W_regularizer=l2(0.0002))(x)\n",
    "x = Dense(7, activation='softmax', W_regularizer=l2(0.0002))(x)\n",
    "final_model = Model(inputs = [img_input], outputs = [x])\n",
    "final_model.summary()"
   ]
  },
  {
   "cell_type": "code",
   "execution_count": 5,
   "metadata": {
    "collapsed": true
   },
   "outputs": [],
   "source": [
    "sgd = SGD(lr=0.01, nesterov=False)\n",
    "final_model.compile(loss='categorical_crossentropy', optimizer=sgd, metrics=['accuracy'])"
   ]
  },
  {
   "cell_type": "code",
   "execution_count": 6,
   "metadata": {},
   "outputs": [
    {
     "name": "stdout",
     "output_type": "stream",
     "text": [
      "Train on 287100 samples, validate on 35890 samples\n",
      "Epoch 1/20\n",
      "287040/287100 [============================>.] - ETA: 0s - loss: 2.4050 - acc: 0.3965\n",
      "Epoch 00001: val_acc improved from -inf to 0.42859, saving model to weights/batchnorm-0.2dropout-01-0.4286.hdf5\n",
      "287100/287100 [==============================] - 1881s 7ms/step - loss: 2.4049 - acc: 0.3965 - val_loss: 2.3657 - val_acc: 0.4286\n",
      "Epoch 2/20\n",
      "287040/287100 [============================>.] - ETA: 0s - loss: 2.1217 - acc: 0.5096\n",
      "Epoch 00002: val_acc did not improve\n",
      "287100/287100 [==============================] - 1927s 7ms/step - loss: 2.1217 - acc: 0.5096 - val_loss: 2.3022 - val_acc: 0.4246\n",
      "Epoch 3/20\n",
      "287040/287100 [============================>.] - ETA: 0s - loss: 1.9863 - acc: 0.5542\n",
      "Epoch 00003: val_acc improved from 0.42859 to 0.49069, saving model to weights/batchnorm-0.2dropout-03-0.4907.hdf5\n",
      "287100/287100 [==============================] - 1828s 6ms/step - loss: 1.9863 - acc: 0.5542 - val_loss: 2.2684 - val_acc: 0.4907\n",
      "Epoch 4/20\n",
      "287040/287100 [============================>.] - ETA: 1s - loss: 1.8834 - acc: 0.5848\n",
      "Epoch 00004: val_acc improved from 0.49069 to 0.52265, saving model to weights/batchnorm-0.2dropout-04-0.5227.hdf5\n",
      "287100/287100 [==============================] - 5458s 19ms/step - loss: 1.8834 - acc: 0.5848 - val_loss: 2.0327 - val_acc: 0.5227\n",
      "Epoch 5/20\n",
      "287040/287100 [============================>.] - ETA: 0s - loss: 1.7964 - acc: 0.6096\n",
      "Epoch 00005: val_acc did not improve\n",
      "287100/287100 [==============================] - 1863s 6ms/step - loss: 1.7964 - acc: 0.6096 - val_loss: 2.3075 - val_acc: 0.4370\n",
      "Epoch 6/20\n",
      "287040/287100 [============================>.] - ETA: 0s - loss: 1.7146 - acc: 0.6336\n",
      "Epoch 00006: val_acc improved from 0.52265 to 0.54040, saving model to weights/batchnorm-0.2dropout-06-0.5404.hdf5\n",
      "287100/287100 [==============================] - 1867s 7ms/step - loss: 1.7146 - acc: 0.6336 - val_loss: 1.9834 - val_acc: 0.5404\n",
      "Epoch 7/20\n",
      "287040/287100 [============================>.] - ETA: 0s - loss: 1.6369 - acc: 0.6561\n",
      "Epoch 00007: val_acc improved from 0.54040 to 0.54140, saving model to weights/batchnorm-0.2dropout-07-0.5414.hdf5\n",
      "287100/287100 [==============================] - 1902s 7ms/step - loss: 1.6368 - acc: 0.6562 - val_loss: 1.9919 - val_acc: 0.5414\n",
      "Epoch 8/20\n",
      "287040/287100 [============================>.] - ETA: 0s - loss: 1.5614 - acc: 0.6787\n",
      "Epoch 00008: val_acc improved from 0.54140 to 0.55057, saving model to weights/batchnorm-0.2dropout-08-0.5506.hdf5\n",
      "287100/287100 [==============================] - 1890s 7ms/step - loss: 1.5614 - acc: 0.6787 - val_loss: 1.9719 - val_acc: 0.5506\n",
      "Epoch 9/20\n",
      "287040/287100 [============================>.] - ETA: 0s - loss: 1.4906 - acc: 0.6984\n",
      "Epoch 00009: val_acc did not improve\n",
      "287100/287100 [==============================] - 1908s 7ms/step - loss: 1.4905 - acc: 0.6984 - val_loss: 2.0335 - val_acc: 0.5234\n",
      "Epoch 10/20\n",
      "287040/287100 [============================>.] - ETA: 0s - loss: 1.4229 - acc: 0.7195\n",
      "Epoch 00010: val_acc did not improve\n",
      "287100/287100 [==============================] - 1909s 7ms/step - loss: 1.4228 - acc: 0.7195 - val_loss: 2.0277 - val_acc: 0.5480\n",
      "Epoch 11/20\n",
      "287040/287100 [============================>.] - ETA: 0s - loss: 1.3582 - acc: 0.7389\n",
      "Epoch 00011: val_acc did not improve\n",
      "287100/287100 [==============================] - 1910s 7ms/step - loss: 1.3583 - acc: 0.7389 - val_loss: 2.1513 - val_acc: 0.5181\n",
      "Epoch 12/20\n",
      "287040/287100 [============================>.] - ETA: 0s - loss: 1.2933 - acc: 0.7587\n",
      "Epoch 00012: val_acc did not improve\n",
      "287100/287100 [==============================] - 1886s 7ms/step - loss: 1.2933 - acc: 0.7587 - val_loss: 2.2368 - val_acc: 0.4854\n",
      "Epoch 13/20\n",
      "287040/287100 [============================>.] - ETA: 0s - loss: 1.2358 - acc: 0.7766\n",
      "Epoch 00013: val_acc improved from 0.55057 to 0.55277, saving model to weights/batchnorm-0.2dropout-13-0.5528.hdf5\n",
      "287100/287100 [==============================] - 1873s 7ms/step - loss: 1.2358 - acc: 0.7766 - val_loss: 2.0692 - val_acc: 0.5528\n",
      "Epoch 14/20\n",
      "287040/287100 [============================>.] - ETA: 0s - loss: 1.1771 - acc: 0.7957\n",
      "Epoch 00014: val_acc improved from 0.55277 to 0.56328, saving model to weights/batchnorm-0.2dropout-14-0.5633.hdf5\n",
      "287100/287100 [==============================] - 1902s 7ms/step - loss: 1.1772 - acc: 0.7957 - val_loss: 2.0830 - val_acc: 0.5633\n",
      "Epoch 15/20\n",
      "287040/287100 [============================>.] - ETA: 0s - loss: 1.1283 - acc: 0.8100\n",
      "Epoch 00015: val_acc did not improve\n",
      "287100/287100 [==============================] - 1877s 7ms/step - loss: 1.1283 - acc: 0.8101 - val_loss: 2.1616 - val_acc: 0.5459\n",
      "Epoch 16/20\n",
      "287040/287100 [============================>.] - ETA: 0s - loss: 1.0797 - acc: 0.8255\n",
      "Epoch 00016: val_acc did not improve\n",
      "287100/287100 [==============================] - 1877s 7ms/step - loss: 1.0797 - acc: 0.8255 - val_loss: 2.1903 - val_acc: 0.5550\n",
      "Epoch 17/20\n",
      "287040/287100 [============================>.] - ETA: 0s - loss: 1.0321 - acc: 0.8411\n",
      "Epoch 00017: val_acc improved from 0.56328 to 0.56854, saving model to weights/batchnorm-0.2dropout-17-0.5685.hdf5\n",
      "287100/287100 [==============================] - 1884s 7ms/step - loss: 1.0321 - acc: 0.8411 - val_loss: 2.1612 - val_acc: 0.5685\n",
      "Epoch 18/20\n",
      "287040/287100 [============================>.] - ETA: 0s - loss: 0.9891 - acc: 0.8549\n",
      "Epoch 00018: val_acc did not improve\n",
      "287100/287100 [==============================] - 1874s 7ms/step - loss: 0.9891 - acc: 0.8549 - val_loss: 2.3307 - val_acc: 0.5553\n",
      "Epoch 19/20\n",
      "287040/287100 [============================>.] - ETA: 0s - loss: 0.9524 - acc: 0.8654\n",
      "Epoch 00019: val_acc did not improve\n",
      "287100/287100 [==============================] - 1902s 7ms/step - loss: 0.9524 - acc: 0.8654 - val_loss: 2.3242 - val_acc: 0.5556\n",
      "Epoch 20/20\n",
      "287040/287100 [============================>.] - ETA: 0s - loss: 0.9169 - acc: 0.8762\n",
      "Epoch 00020: val_acc did not improve\n",
      "287100/287100 [==============================] - 1903s 7ms/step - loss: 0.9169 - acc: 0.8762 - val_loss: 2.3054 - val_acc: 0.5645\n"
     ]
    }
   ],
   "source": [
    "filepath= \"weights/\" +\"batchnorm-0.2dropout\" + \"-{epoch:02d}-{val_acc:.4f}.hdf5\"\n",
    "checkpoint = ModelCheckpoint(filepath, monitor='val_acc', verbose=1, save_best_only=True, mode='max')\n",
    "callbacks_list.append(checkpoint)\n",
    "model_history = final_model.fit(Xtrain, Ytrain, epochs = max_epoch, batch_size = 64,callbacks = callbacks_list ,\n",
    "                                validation_data=(Xval, Yval))"
   ]
  },
  {
   "cell_type": "code",
   "execution_count": 9,
   "metadata": {
    "collapsed": true
   },
   "outputs": [],
   "source": [
    "import matplotlib.pyplot as plt"
   ]
  },
  {
   "cell_type": "code",
   "execution_count": 11,
   "metadata": {},
   "outputs": [
    {
     "data": {
      "image/png": "[encoded data removed]",
      "text/plain": [
       "<matplotlib.figure.Figure at 0x7fc73db2ce90>"
      ]
     },
     "metadata": {},
     "output_type": "display_data"
    }
   ],
   "source": [
    "plt.figure()\n",
    "plt.plot(model_history.history['loss'])\n",
    "plt.plot(model_history.history['val_loss'])\n",
    "plt.title('model loss')\n",
    "plt.ylabel('loss')\n",
    "plt.xlabel('epoch')\n",
    "plt.legend(['train', 'test'], loc='best')\n",
    "plt.savefig(\"bn0.2.jpg\")\n",
    "plt.show()"
   ]
  }
 ],
 "metadata": {
  "kernelspec": {
   "display_name": "Python 2",
   "language": "python",
   "name": "python2"
  },
  "language_info": {
   "codemirror_mode": {
    "name": "ipython",
    "version": 2
   },
   "file_extension": ".py",
   "mimetype": "text/x-python",
   "name": "python",
   "nbconvert_exporter": "python",
   "pygments_lexer": "ipython2",
   "version": "2.7.14"
  }
 },
 "nbformat": 4,
 "nbformat_minor": 2
}
