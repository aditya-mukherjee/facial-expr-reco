{
 "cells": [
  {
   "cell_type": "code",
   "execution_count": 1,
   "metadata": {},
   "outputs": [
    {
     "name": "stderr",
     "output_type": "stream",
     "text": [
      "Using Theano backend.\n"
     ]
    }
   ],
   "source": [
    "import pandas as pd\n",
    "import numpy as np\n",
    "from keras import utils as np_utils\n",
    "df=pd.read_csv('fer2013.csv')"
   ]
  },
  {
   "cell_type": "code",
   "execution_count": 2,
   "metadata": {},
   "outputs": [
    {
     "data": {
      "text/html": [
       "<div>\n",
       "<style>\n",
       "    .dataframe thead tr:only-child th {\n",
       "        text-align: right;\n",
       "    }\n",
       "\n",
       "    .dataframe thead th {\n",
       "        text-align: left;\n",
       "    }\n",
       "\n",
       "    .dataframe tbody tr th {\n",
       "        vertical-align: top;\n",
       "    }\n",
       "</style>\n",
       "<table border=\"1\" class=\"dataframe\">\n",
       "  <thead>\n",
       "    <tr style=\"text-align: right;\">\n",
       "      <th></th>\n",
       "      <th>emotion</th>\n",
       "      <th>pixels</th>\n",
       "      <th>Usage</th>\n",
       "    </tr>\n",
       "  </thead>\n",
       "  <tbody>\n",
       "    <tr>\n",
       "      <th>0</th>\n",
       "      <td>0</td>\n",
       "      <td>70 80 82 72 58 58 60 63 54 58 60 48 89 115 121...</td>\n",
       "      <td>Training</td>\n",
       "    </tr>\n",
       "    <tr>\n",
       "      <th>1</th>\n",
       "      <td>0</td>\n",
       "      <td>151 150 147 155 148 133 111 140 170 174 182 15...</td>\n",
       "      <td>Training</td>\n",
       "    </tr>\n",
       "    <tr>\n",
       "      <th>2</th>\n",
       "      <td>2</td>\n",
       "      <td>231 212 156 164 174 138 161 173 182 200 106 38...</td>\n",
       "      <td>Training</td>\n",
       "    </tr>\n",
       "    <tr>\n",
       "      <th>3</th>\n",
       "      <td>4</td>\n",
       "      <td>24 32 36 30 32 23 19 20 30 41 21 22 32 34 21 1...</td>\n",
       "      <td>Training</td>\n",
       "    </tr>\n",
       "    <tr>\n",
       "      <th>4</th>\n",
       "      <td>6</td>\n",
       "      <td>4 0 0 0 0 0 0 0 0 0 0 0 3 15 23 28 48 50 58 84...</td>\n",
       "      <td>Training</td>\n",
       "    </tr>\n",
       "  </tbody>\n",
       "</table>\n",
       "</div>"
      ],
      "text/plain": [
       "   emotion                                             pixels     Usage\n",
       "0        0  70 80 82 72 58 58 60 63 54 58 60 48 89 115 121...  Training\n",
       "1        0  151 150 147 155 148 133 111 140 170 174 182 15...  Training\n",
       "2        2  231 212 156 164 174 138 161 173 182 200 106 38...  Training\n",
       "3        4  24 32 36 30 32 23 19 20 30 41 21 22 32 34 21 1...  Training\n",
       "4        6  4 0 0 0 0 0 0 0 0 0 0 0 3 15 23 28 48 50 58 84...  Training"
      ]
     },
     "execution_count": 2,
     "metadata": {},
     "output_type": "execute_result"
    }
   ],
   "source": [
    "#df=df.sample(frac=1)\n",
    "df.head()\n",
    "# df.shape"
   ]
  },
  {
   "cell_type": "code",
   "execution_count": 3,
   "metadata": {
    "collapsed": true
   },
   "outputs": [],
   "source": [
    "pixels=np.array(df['pixels'])\n",
    "labels=np.array(df['emotion'])"
   ]
  },
  {
   "cell_type": "code",
   "execution_count": 4,
   "metadata": {
    "collapsed": true
   },
   "outputs": [],
   "source": [
    "# print(len(pixels))\n",
    "# print(type(pixels[0]))\n",
    "# pix=int(pixels[0])\n",
    "# print(len(pixels[0))\n",
    "# print(pixels[0])\n",
    "# for i in range(len(pixels)):\n",
    "#     pix.append(int(pixels[i]))\n",
    "pix=[]\n",
    "for i in range(len(pixels)):\n",
    "    pix.append(np.fromstring(pixels[i], dtype=int, sep=\" \"))"
   ]
  },
  {
   "cell_type": "code",
   "execution_count": 5,
   "metadata": {
    "collapsed": true
   },
   "outputs": [],
   "source": [
    "data=np.array(pix)"
   ]
  },
  {
   "cell_type": "code",
   "execution_count": 6,
   "metadata": {
    "collapsed": true
   },
   "outputs": [],
   "source": [
    "data2=[]\n",
    "# print(len(data[0]))\n",
    "for i in range(len(data)):\n",
    "    if(int(len(data[i])==(2304))):\n",
    "        data2.append(data[i].reshape(48,48))\n",
    "    else:\n",
    "        print(i)\n",
    "#         print(int(len(data[i])))\n",
    "data=np.array(data2)\n",
    "del(data2)"
   ]
  },
  {
   "cell_type": "code",
   "execution_count": 7,
   "metadata": {
    "collapsed": true
   },
   "outputs": [],
   "source": [
    "import scipy.misc\n",
    "\n",
    "label3=[]\n",
    "data3=[]\n",
    "# print(data[0][0:40,0:40])\n",
    "# print(len(data))\n",
    "for i in range(len(data)):    \n",
    "    data3.append(data[i][0:40,0:40])\n",
    "    data3.append(data[i][8:48,0:40])\n",
    "    data3.append(data[i][0:40,8:48])\n",
    "    data3.append(data[i][8:48,8:48])\n",
    "    data3.append(data[i][4:44,4:44])\n",
    "       \n",
    "    data3.append(np.fliplr(data[i][0:40,0:40]))\n",
    "    data3.append(np.fliplr(data[i][8:48,0:40]))\n",
    "    data3.append(np.fliplr(data[i][0:40,8:48]))\n",
    "    data3.append(np.fliplr(data[i][8:48,8:48]))\n",
    "    data3.append(np.fliplr(data[i][4:44,4:44]))\n",
    "    for j in range(10):\n",
    "        label3.append(labels[i])\n",
    "\n",
    "        \n",
    "#     y1=data[0][0:40,0:40]\n",
    "#     scipy.misc.imsave('outfile1.jpg', y1)\n",
    "#     y2=data[0][8:48,0:40]\n",
    "#     scipy.misc.imsave('outfile2.jpg', y2)\n",
    "#     y3=data[0][0:40,8:48]\n",
    "#     scipy.misc.imsave('outfile3.jpg', y3)\n",
    "#     y4=data[0][8:48,8:48]\n",
    "#     scipy.misc.imsave('outfile4.jpg', y4)\n",
    "#     y5=data[0][4:44,4:44]\n",
    "#     scipy.misc.imsave('outfile5.jpg', y5)"
   ]
  },
  {
   "cell_type": "code",
   "execution_count": 8,
   "metadata": {},
   "outputs": [
    {
     "name": "stdout",
     "output_type": "stream",
     "text": [
      "(358870, 40, 40)\n",
      "(358870,)\n"
     ]
    }
   ],
   "source": [
    "data=np.array(data3)\n",
    "del(data3)\n",
    "print(data.shape)\n",
    "labels=np.array(label3)\n",
    "print(labels.shape)\n",
    "del(label3)"
   ]
  },
  {
   "cell_type": "code",
   "execution_count": 9,
   "metadata": {},
   "outputs": [
    {
     "name": "stdout",
     "output_type": "stream",
     "text": [
      "(287100, 40, 40, 1)\n",
      "(35890, 40, 40, 1)\n",
      "(35880, 40, 40, 1)\n",
      "(287100,)\n",
      "(35890,)\n",
      "(35880,)\n"
     ]
    }
   ],
   "source": [
    "data = data.reshape((data.shape[0],data.shape[1],data.shape[2],1))\n",
    "train_data=data[0:287100,:,:]\n",
    "val_data=data[287100:322990,:,:]\n",
    "test_data=data[322990:,:,:]\n",
    "print(train_data.shape)\n",
    "print(val_data.shape)\n",
    "print(test_data.shape)\n",
    "\n",
    "train_label=labels[0:287100]\n",
    "val_label=labels[287100:322990]\n",
    "test_label=labels[322990:]\n",
    "print(train_label.shape)\n",
    "print(val_label.shape)\n",
    "print(test_label.shape)"
   ]
  },
  {
   "cell_type": "code",
   "execution_count": 10,
   "metadata": {
    "collapsed": true
   },
   "outputs": [],
   "source": [
    "train_label = np_utils.to_categorical(train_label)\n",
    "test_label = np_utils.to_categorical(test_label)\n",
    "val_label = np_utils.to_categorical(val_label)"
   ]
  },
  {
   "cell_type": "code",
   "execution_count": 11,
   "metadata": {},
   "outputs": [
    {
     "name": "stdout",
     "output_type": "stream",
     "text": [
      "(287100, 7)\n",
      "(35890, 7)\n",
      "(35880, 7)\n"
     ]
    }
   ],
   "source": [
    "print(train_label.shape)\n",
    "print(val_label.shape)\n",
    "print(test_label.shape)"
   ]
  },
  {
   "cell_type": "code",
   "execution_count": 12,
   "metadata": {
    "collapsed": true
   },
   "outputs": [],
   "source": [
    "np.save(\"Xtrain\",train_data)\n",
    "np.save(\"Xtest\",test_data)\n",
    "np.save(\"Xval\",val_data)\n",
    "np.save(\"Ytrain\",train_label)\n",
    "np.save(\"Ytest\",test_label)\n",
    "np.save(\"Yval\",val_label)"
   ]
  },
  {
   "cell_type": "code",
   "execution_count": null,
   "metadata": {
    "collapsed": true
   },
   "outputs": [],
   "source": []
  }
 ],
 "metadata": {
  "kernelspec": {
   "display_name": "Python 2",
   "language": "python",
   "name": "python2"
  },
  "language_info": {
   "codemirror_mode": {
    "name": "ipython",
    "version": 2
   },
   "file_extension": ".py",
   "mimetype": "text/x-python",
   "name": "python",
   "nbconvert_exporter": "python",
   "pygments_lexer": "ipython2",
   "version": "2.7.14"
  }
 },
 "nbformat": 4,
 "nbformat_minor": 2
}
